{
  "cells": [
    {
      "cell_type": "code",
      "execution_count": null,
      "metadata": {
        "id": "NaIy4-4lbUi6"
      },
      "outputs": [],
      "source": [
        "import os\n",
        "import cv2\n",
        "import numpy as np\n",
        "import tensorflow as tf\n",
        "import matplotlib.pyplot as plt\n",
        "from sklearn.metrics import confusion_matrix, classification_report\n",
        "\n",
        "from sklearn.model_selection import train_test_split\n",
        "\n",
        "from tensorflow.keras.layers import *\n",
        "from tensorflow.keras.models import Sequential\n",
        "from tensorflow.keras.utils import to_categorical\n",
        "from tensorflow.keras.utils import plot_model"
      ]
    },
    {
      "cell_type": "code",
      "execution_count": null,
      "metadata": {
        "id": "5M6dbbLc0xzE"
      },
      "outputs": [],
      "source": [
        "%%capture\n",
        "!wget --no-check-certificate https://www.crcv.ucf.edu/datasets/human-actions/ucf101/UCF101.rar\n",
        "!unrar x UCF101.rar\n"
      ]
    },
    {
      "cell_type": "code",
      "execution_count": null,
      "metadata": {
        "id": "Tb_CefARbuJ9"
      },
      "outputs": [],
      "source": [
        "IMAGE_HEIGHT , IMAGE_WIDTH = 64, 64\n",
        "\n",
        "SEQUENCE_LENGTH = 20\n",
        "\n",
        "DATASET_DIR = \"UCF-101\"\n",
        "\n",
        "CLASSES_LIST = [\"BabyCrawling\", \"CuttingInKitchen\", \"PizzaTossing\", \"Punch\", \"Mixing\", \"MoppingFloor\"]"
      ]
    },
    {
      "cell_type": "code",
      "execution_count": null,
      "metadata": {
        "id": "-TF2r6NHb15g"
      },
      "outputs": [],
      "source": [
        "def frames_extraction(video_path):\n",
        "\n",
        "    # Declare a list to store video frames.\n",
        "    frames_list = []\n",
        "\n",
        "    video_reader = cv2.VideoCapture(video_path)\n",
        "\n",
        "    total_frames = int(video_reader.get(cv2.CAP_PROP_FRAME_COUNT))\n",
        "\n",
        "    skip_frames = max(int(total_frames/SEQUENCE_LENGTH), 1)\n",
        "\n",
        "    for frame_counter in range(SEQUENCE_LENGTH):\n",
        "\n",
        "        # Set the current frame position of the video.\n",
        "        video_reader.set(cv2.CAP_PROP_POS_FRAMES, frame_counter * skip_frames)\n",
        "\n",
        "        success, frame = video_reader.read()\n",
        "\n",
        "        if not success:\n",
        "            break\n",
        "\n",
        "        resized_frame = cv2.resize(frame, (IMAGE_HEIGHT, IMAGE_WIDTH))\n",
        "        normalized_frame = resized_frame / 255\n",
        "\n",
        "        frames_list.append(normalized_frame)\n",
        "\n",
        "    video_reader.release()\n",
        "\n",
        "    return frames_list"
      ]
    },
    {
      "cell_type": "code",
      "execution_count": null,
      "metadata": {
        "id": "JqZN26wNcALw"
      },
      "outputs": [],
      "source": [
        "def create_dataset():\n",
        "\n",
        "    features = [] # Contains extracted frames of the video\n",
        "    labels = [] # Indexes of classes associated with the video\n",
        "    video_paths = [] # Path of video\n",
        "\n",
        "    for class_index, class_name in enumerate(CLASSES_LIST):\n",
        "\n",
        "        print(f'Extracting Data of Class: {class_name}')\n",
        "        files_list = os.listdir(os.path.join(DATASET_DIR, class_name))\n",
        "\n",
        "        # Iterate through all the files present in the files list.\n",
        "        for file_name in files_list:\n",
        "\n",
        "            video_path = os.path.join(DATASET_DIR, class_name, file_name)\n",
        "            frames = frames_extraction(video_path)\n",
        "\n",
        "            if len(frames) == SEQUENCE_LENGTH:\n",
        "\n",
        "                # Append the data to their repective lists.\n",
        "                features.append(frames)\n",
        "                labels.append(class_index)\n",
        "                video_paths.append(video_path)\n",
        "\n",
        "    # Converting the list to numpy arrays\n",
        "    features = np.asarray(features)\n",
        "    labels = np.array(labels)\n",
        "\n",
        "    return features, labels, video_paths"
      ]
    },
    {
      "cell_type": "code",
      "execution_count": null,
      "metadata": {
        "colab": {
          "base_uri": "https://localhost:8080/"
        },
        "id": "taKyLVAPcHU0",
        "outputId": "0e73c470-f55c-4e12-d5ba-5896e078bb18"
      },
      "outputs": [
        {
          "output_type": "stream",
          "name": "stdout",
          "text": [
            "Extracting Data of Class: BabyCrawling\n",
            "Extracting Data of Class: CuttingInKitchen\n",
            "Extracting Data of Class: PizzaTossing\n",
            "Extracting Data of Class: Punch\n",
            "Extracting Data of Class: Mixing\n",
            "Extracting Data of Class: MoppingFloor\n"
          ]
        }
      ],
      "source": [
        "# Create the dataset.\n",
        "features, labels, video_files_paths = create_dataset()"
      ]
    },
    {
      "cell_type": "code",
      "execution_count": null,
      "metadata": {
        "id": "n9B6WKY2cLoF"
      },
      "outputs": [],
      "source": [
        "one_hot_encoded_labels = to_categorical(labels)"
      ]
    },
    {
      "cell_type": "code",
      "execution_count": null,
      "metadata": {
        "id": "lwNVHU3UcP3D"
      },
      "outputs": [],
      "source": [
        "features_train, features_test, labels_train, labels_test = train_test_split(features, one_hot_encoded_labels, test_size = 0.25, shuffle = True, random_state = 20)"
      ]
    },
    {
      "cell_type": "code",
      "execution_count": null,
      "metadata": {
        "id": "TZijZaRCawlp"
      },
      "outputs": [],
      "source": [
        "def create_LRCN_model():\n",
        "\n",
        "    model = Sequential()\n",
        "\n",
        "\n",
        "    model.add(TimeDistributed(Conv2D(16, (3, 3), padding='same',activation = 'relu'),\n",
        "                              input_shape = (SEQUENCE_LENGTH, IMAGE_HEIGHT, IMAGE_WIDTH, 3)))\n",
        "\n",
        "    model.add(TimeDistributed(MaxPooling2D((4, 4))))\n",
        "    model.add(TimeDistributed(Dropout(0.25)))\n",
        "\n",
        "    model.add(TimeDistributed(Conv2D(32, (3, 3), padding='same',activation = 'relu')))\n",
        "    model.add(TimeDistributed(MaxPooling2D((4, 4))))\n",
        "    model.add(TimeDistributed(Dropout(0.25)))\n",
        "\n",
        "    model.add(TimeDistributed(Conv2D(64, (3, 3), padding='same',activation = 'relu')))\n",
        "    model.add(TimeDistributed(MaxPooling2D((2, 2))))\n",
        "    model.add(TimeDistributed(Dropout(0.25)))\n",
        "\n",
        "    model.add(TimeDistributed(Conv2D(64, (3, 3), padding='same',activation = 'relu')))\n",
        "    model.add(TimeDistributed(MaxPooling2D((2, 2))))\n",
        "\n",
        "    model.add(TimeDistributed(Flatten()))\n",
        "\n",
        "    model.add(LSTM(32))\n",
        "\n",
        "    model.add(Dense(len(CLASSES_LIST), activation = 'softmax'))\n",
        "\n",
        "\n",
        "    # Display the models summary.\n",
        "    model.summary()\n",
        "\n",
        "    return model"
      ]
    },
    {
      "cell_type": "code",
      "execution_count": null,
      "metadata": {
        "colab": {
          "base_uri": "https://localhost:8080/"
        },
        "id": "7WPm0-rXa0s-",
        "outputId": "ce90fdb4-aa1f-4255-94ac-d8d5690a74df"
      },
      "outputs": [
        {
          "output_type": "stream",
          "name": "stdout",
          "text": [
            "Model: \"sequential\"\n",
            "_________________________________________________________________\n",
            " Layer (type)                Output Shape              Param #   \n",
            "=================================================================\n",
            " time_distributed (TimeDist  (None, 20, 64, 64, 16)    448       \n",
            " ributed)                                                        \n",
            "                                                                 \n",
            " time_distributed_1 (TimeDi  (None, 20, 16, 16, 16)    0         \n",
            " stributed)                                                      \n",
            "                                                                 \n",
            " time_distributed_2 (TimeDi  (None, 20, 16, 16, 16)    0         \n",
            " stributed)                                                      \n",
            "                                                                 \n",
            " time_distributed_3 (TimeDi  (None, 20, 16, 16, 32)    4640      \n",
            " stributed)                                                      \n",
            "                                                                 \n",
            " time_distributed_4 (TimeDi  (None, 20, 4, 4, 32)      0         \n",
            " stributed)                                                      \n",
            "                                                                 \n",
            " time_distributed_5 (TimeDi  (None, 20, 4, 4, 32)      0         \n",
            " stributed)                                                      \n",
            "                                                                 \n",
            " time_distributed_6 (TimeDi  (None, 20, 4, 4, 64)      18496     \n",
            " stributed)                                                      \n",
            "                                                                 \n",
            " time_distributed_7 (TimeDi  (None, 20, 2, 2, 64)      0         \n",
            " stributed)                                                      \n",
            "                                                                 \n",
            " time_distributed_8 (TimeDi  (None, 20, 2, 2, 64)      0         \n",
            " stributed)                                                      \n",
            "                                                                 \n",
            " time_distributed_9 (TimeDi  (None, 20, 2, 2, 64)      36928     \n",
            " stributed)                                                      \n",
            "                                                                 \n",
            " time_distributed_10 (TimeD  (None, 20, 1, 1, 64)      0         \n",
            " istributed)                                                     \n",
            "                                                                 \n",
            " time_distributed_11 (TimeD  (None, 20, 64)            0         \n",
            " istributed)                                                     \n",
            "                                                                 \n",
            " lstm (LSTM)                 (None, 32)                12416     \n",
            "                                                                 \n",
            " dense (Dense)               (None, 6)                 198       \n",
            "                                                                 \n",
            "=================================================================\n",
            "Total params: 73126 (285.65 KB)\n",
            "Trainable params: 73126 (285.65 KB)\n",
            "Non-trainable params: 0 (0.00 Byte)\n",
            "_________________________________________________________________\n",
            "Model Created Successfully!\n"
          ]
        }
      ],
      "source": [
        "# Construct the required LRCN model.\n",
        "LRCN_model = create_LRCN_model()\n",
        "\n",
        "print(\"Model Created Successfully!\")"
      ]
    },
    {
      "cell_type": "code",
      "execution_count": null,
      "metadata": {
        "colab": {
          "base_uri": "https://localhost:8080/"
        },
        "id": "ji4k2OtUbABB",
        "outputId": "633aaa00-7983-4c98-a1da-fbe62917cba8"
      },
      "outputs": [
        {
          "output_type": "stream",
          "name": "stdout",
          "text": [
            "Epoch 1/50\n",
            "57/57 [==============================] - 28s 420ms/step - loss: 1.7863 - accuracy: 0.2193 - val_loss: 1.7507 - val_accuracy: 0.2632\n",
            "Epoch 2/50\n",
            "57/57 [==============================] - 23s 398ms/step - loss: 1.5892 - accuracy: 0.3575 - val_loss: 1.4761 - val_accuracy: 0.4211\n",
            "Epoch 3/50\n",
            "57/57 [==============================] - 22s 381ms/step - loss: 1.4741 - accuracy: 0.3860 - val_loss: 1.4230 - val_accuracy: 0.4123\n",
            "Epoch 4/50\n",
            "57/57 [==============================] - 21s 374ms/step - loss: 1.3174 - accuracy: 0.4649 - val_loss: 1.4117 - val_accuracy: 0.3772\n",
            "Epoch 5/50\n",
            "57/57 [==============================] - 23s 404ms/step - loss: 1.2369 - accuracy: 0.5132 - val_loss: 1.2437 - val_accuracy: 0.4561\n",
            "Epoch 6/50\n",
            "57/57 [==============================] - 24s 424ms/step - loss: 1.2153 - accuracy: 0.4912 - val_loss: 1.3093 - val_accuracy: 0.4737\n",
            "Epoch 7/50\n",
            "57/57 [==============================] - 21s 376ms/step - loss: 1.0795 - accuracy: 0.5921 - val_loss: 1.1742 - val_accuracy: 0.5263\n",
            "Epoch 8/50\n",
            "57/57 [==============================] - 22s 390ms/step - loss: 0.9752 - accuracy: 0.6184 - val_loss: 1.1088 - val_accuracy: 0.5263\n",
            "Epoch 9/50\n",
            "57/57 [==============================] - 23s 399ms/step - loss: 0.9144 - accuracy: 0.6557 - val_loss: 1.0986 - val_accuracy: 0.5614\n",
            "Epoch 10/50\n",
            "57/57 [==============================] - 22s 384ms/step - loss: 0.8475 - accuracy: 0.6864 - val_loss: 1.0633 - val_accuracy: 0.5614\n",
            "Epoch 11/50\n",
            "57/57 [==============================] - 20s 358ms/step - loss: 0.7728 - accuracy: 0.7061 - val_loss: 1.0615 - val_accuracy: 0.5439\n",
            "Epoch 12/50\n",
            "57/57 [==============================] - 22s 395ms/step - loss: 0.8742 - accuracy: 0.6820 - val_loss: 1.1084 - val_accuracy: 0.5614\n",
            "Epoch 13/50\n",
            "57/57 [==============================] - 24s 425ms/step - loss: 0.8009 - accuracy: 0.6996 - val_loss: 1.0646 - val_accuracy: 0.5702\n",
            "Epoch 14/50\n",
            "57/57 [==============================] - 22s 379ms/step - loss: 0.6039 - accuracy: 0.7917 - val_loss: 0.9073 - val_accuracy: 0.6140\n",
            "Epoch 15/50\n",
            "57/57 [==============================] - 22s 379ms/step - loss: 0.7010 - accuracy: 0.7544 - val_loss: 0.8648 - val_accuracy: 0.6579\n",
            "Epoch 16/50\n",
            "57/57 [==============================] - 23s 398ms/step - loss: 0.5456 - accuracy: 0.8114 - val_loss: 0.8520 - val_accuracy: 0.6667\n",
            "Epoch 17/50\n",
            "57/57 [==============================] - 21s 375ms/step - loss: 0.5050 - accuracy: 0.8158 - val_loss: 0.8781 - val_accuracy: 0.6667\n",
            "Epoch 18/50\n",
            "57/57 [==============================] - 20s 356ms/step - loss: 0.4429 - accuracy: 0.8421 - val_loss: 0.7948 - val_accuracy: 0.7018\n",
            "Epoch 19/50\n",
            "57/57 [==============================] - 22s 379ms/step - loss: 0.3481 - accuracy: 0.8706 - val_loss: 0.9749 - val_accuracy: 0.6404\n",
            "Epoch 20/50\n",
            "57/57 [==============================] - 20s 359ms/step - loss: 0.3835 - accuracy: 0.8662 - val_loss: 0.8395 - val_accuracy: 0.6930\n",
            "Epoch 21/50\n",
            "57/57 [==============================] - 21s 369ms/step - loss: 0.2986 - accuracy: 0.8925 - val_loss: 0.7047 - val_accuracy: 0.7632\n",
            "Epoch 22/50\n",
            "57/57 [==============================] - 22s 390ms/step - loss: 0.4147 - accuracy: 0.8509 - val_loss: 0.9164 - val_accuracy: 0.6491\n",
            "Epoch 23/50\n",
            "57/57 [==============================] - 21s 373ms/step - loss: 0.2521 - accuracy: 0.9123 - val_loss: 1.0169 - val_accuracy: 0.6579\n",
            "Epoch 24/50\n",
            "57/57 [==============================] - 22s 389ms/step - loss: 0.2271 - accuracy: 0.9167 - val_loss: 0.6898 - val_accuracy: 0.7895\n",
            "Epoch 25/50\n",
            "57/57 [==============================] - 22s 384ms/step - loss: 0.3316 - accuracy: 0.8772 - val_loss: 0.9355 - val_accuracy: 0.6404\n",
            "Epoch 26/50\n",
            "57/57 [==============================] - 26s 450ms/step - loss: 0.2187 - accuracy: 0.9211 - val_loss: 0.6717 - val_accuracy: 0.7544\n",
            "Epoch 27/50\n",
            "57/57 [==============================] - 26s 462ms/step - loss: 0.1425 - accuracy: 0.9539 - val_loss: 0.7868 - val_accuracy: 0.7895\n",
            "Epoch 28/50\n",
            "57/57 [==============================] - 22s 381ms/step - loss: 0.2291 - accuracy: 0.9145 - val_loss: 0.8020 - val_accuracy: 0.7281\n",
            "Epoch 29/50\n",
            "57/57 [==============================] - 21s 375ms/step - loss: 0.1263 - accuracy: 0.9583 - val_loss: 0.6518 - val_accuracy: 0.7982\n",
            "Epoch 30/50\n",
            "57/57 [==============================] - 21s 378ms/step - loss: 0.1017 - accuracy: 0.9671 - val_loss: 0.7633 - val_accuracy: 0.7544\n",
            "Epoch 31/50\n",
            "57/57 [==============================] - 21s 361ms/step - loss: 0.0759 - accuracy: 0.9803 - val_loss: 0.9385 - val_accuracy: 0.7719\n",
            "Epoch 32/50\n",
            "57/57 [==============================] - 23s 400ms/step - loss: 0.1695 - accuracy: 0.9452 - val_loss: 0.8605 - val_accuracy: 0.7544\n",
            "Epoch 33/50\n",
            "57/57 [==============================] - 22s 379ms/step - loss: 0.0897 - accuracy: 0.9627 - val_loss: 0.7417 - val_accuracy: 0.7807\n",
            "Epoch 34/50\n",
            "57/57 [==============================] - 21s 362ms/step - loss: 0.0745 - accuracy: 0.9846 - val_loss: 0.8671 - val_accuracy: 0.7544\n",
            "Epoch 35/50\n",
            "57/57 [==============================] - 23s 398ms/step - loss: 0.1574 - accuracy: 0.9452 - val_loss: 0.6771 - val_accuracy: 0.7982\n",
            "Epoch 36/50\n",
            "57/57 [==============================] - 21s 376ms/step - loss: 0.1337 - accuracy: 0.9583 - val_loss: 0.6832 - val_accuracy: 0.8070\n",
            "Epoch 37/50\n",
            "57/57 [==============================] - 21s 360ms/step - loss: 0.0672 - accuracy: 0.9868 - val_loss: 0.8316 - val_accuracy: 0.7807\n",
            "Epoch 38/50\n",
            "57/57 [==============================] - 22s 380ms/step - loss: 0.1897 - accuracy: 0.9320 - val_loss: 0.6480 - val_accuracy: 0.8070\n",
            "Epoch 39/50\n",
            "57/57 [==============================] - 20s 357ms/step - loss: 0.1054 - accuracy: 0.9671 - val_loss: 0.6914 - val_accuracy: 0.7982\n",
            "Epoch 40/50\n",
            "57/57 [==============================] - 22s 379ms/step - loss: 0.0431 - accuracy: 0.9868 - val_loss: 0.6302 - val_accuracy: 0.8684\n",
            "Epoch 41/50\n",
            "57/57 [==============================] - 22s 395ms/step - loss: 0.0418 - accuracy: 0.9912 - val_loss: 0.8075 - val_accuracy: 0.8158\n",
            "Epoch 42/50\n",
            "57/57 [==============================] - 21s 372ms/step - loss: 0.0215 - accuracy: 0.9956 - val_loss: 0.8046 - val_accuracy: 0.8333\n",
            "Epoch 43/50\n",
            "57/57 [==============================] - 21s 358ms/step - loss: 0.0253 - accuracy: 0.9934 - val_loss: 0.6822 - val_accuracy: 0.8333\n",
            "Epoch 44/50\n",
            "57/57 [==============================] - 22s 395ms/step - loss: 0.1844 - accuracy: 0.9430 - val_loss: 0.8392 - val_accuracy: 0.7632\n",
            "Epoch 45/50\n",
            "57/57 [==============================] - 21s 372ms/step - loss: 0.1470 - accuracy: 0.9496 - val_loss: 0.9168 - val_accuracy: 0.7632\n",
            "Epoch 46/50\n",
            "57/57 [==============================] - 30s 519ms/step - loss: 0.1128 - accuracy: 0.9693 - val_loss: 0.7555 - val_accuracy: 0.8246\n",
            "Epoch 47/50\n",
            "57/57 [==============================] - 21s 371ms/step - loss: 0.0570 - accuracy: 0.9825 - val_loss: 0.9714 - val_accuracy: 0.7632\n",
            "Epoch 48/50\n",
            "57/57 [==============================] - 20s 357ms/step - loss: 0.0285 - accuracy: 0.9956 - val_loss: 0.8223 - val_accuracy: 0.8333\n",
            "Epoch 49/50\n",
            "57/57 [==============================] - 23s 407ms/step - loss: 0.0243 - accuracy: 0.9934 - val_loss: 0.9555 - val_accuracy: 0.8158\n",
            "Epoch 50/50\n",
            "57/57 [==============================] - 21s 373ms/step - loss: 0.0426 - accuracy: 0.9868 - val_loss: 0.8881 - val_accuracy: 0.8246\n"
          ]
        }
      ],
      "source": [
        "# Compile the model\n",
        "LRCN_model.compile(loss = 'categorical_crossentropy', optimizer = 'Adam', metrics = [\"accuracy\"])\n",
        "\n",
        "LRCN_model_training_history = LRCN_model.fit(x = features_train, y = labels_train, epochs = 50, batch_size = 8 , shuffle = True, validation_split = 0.2)"
      ]
    },
    {
      "cell_type": "code",
      "execution_count": null,
      "metadata": {
        "colab": {
          "base_uri": "https://localhost:8080/"
        },
        "id": "HE9e9tKzbooz",
        "outputId": "628d50ee-f8cd-4eca-b0dd-6a929da26a67"
      },
      "outputs": [
        {
          "output_type": "stream",
          "name": "stdout",
          "text": [
            "6/6 [==============================] - 3s 468ms/step - loss: 0.6356 - accuracy: 0.8325\n",
            "Test Loss: 0.6356045603752136\n",
            "Test Accuracy: 0.8324607610702515\n"
          ]
        }
      ],
      "source": [
        "# Evaluation\n",
        "evaluation_history = LRCN_model.evaluate(features_test, labels_test)\n",
        "print(\"Test Loss:\", evaluation_history[0])\n",
        "print(\"Test Accuracy:\", evaluation_history[1])"
      ]
    },
    {
      "cell_type": "code",
      "source": [
        "y_pred = LRCN_model.predict(features_test)\n",
        "y_pred_labels = np.argmax(y_pred, axis=1)\n",
        "y_true_labels = np.argmax(labels_test, axis=1)\n",
        "\n",
        "# Calculate confusion matrix\n",
        "confusion_mat = confusion_matrix(y_true_labels, y_pred_labels)\n",
        "print(\"Confusion Matrix:\")\n",
        "print(confusion_mat)\n",
        "\n",
        "# Precision = True Positives / (True Positives + False Positives)\\\n",
        "# Recall = True Positives / (True Positives + False Negatives)\n",
        "# F1-score = 2 * (Precision * Recall) / (Precision + Recall)\n",
        "class_report = classification_report(y_true_labels, y_pred_labels, target_names=CLASSES_LIST)\n",
        "print(\"\\n\"\"Classification Report:\")\n",
        "print(class_report)"
      ],
      "metadata": {
        "colab": {
          "base_uri": "https://localhost:8080/"
        },
        "id": "P6dAup57EVvt",
        "outputId": "ca658e78-62fd-49ed-f435-6c33541bcd28"
      },
      "execution_count": null,
      "outputs": [
        {
          "output_type": "stream",
          "name": "stdout",
          "text": [
            "6/6 [==============================] - 4s 625ms/step\n",
            "Confusion Matrix:\n",
            "[[28  0  4  0  0  1]\n",
            " [ 5 18  0  0  2  1]\n",
            " [ 2  0 24  3  0  1]\n",
            " [ 0  0  1 45  0  0]\n",
            " [ 0  2  1  1 21  0]\n",
            " [ 3  1  1  0  3 23]]\n",
            "\n",
            "Classification Report:\n",
            "                  precision    recall  f1-score   support\n",
            "\n",
            "    BabyCrawling       0.74      0.85      0.79        33\n",
            "CuttingInKitchen       0.86      0.69      0.77        26\n",
            "    PizzaTossing       0.77      0.80      0.79        30\n",
            "           Punch       0.92      0.98      0.95        46\n",
            "          Mixing       0.81      0.84      0.82        25\n",
            "    MoppingFloor       0.88      0.74      0.81        31\n",
            "\n",
            "        accuracy                           0.83       191\n",
            "       macro avg       0.83      0.82      0.82       191\n",
            "    weighted avg       0.84      0.83      0.83       191\n",
            "\n"
          ]
        }
      ]
    }
  ],
  "metadata": {
    "colab": {
      "provenance": []
    },
    "kernelspec": {
      "display_name": "Python 3",
      "name": "python3"
    },
    "language_info": {
      "name": "python"
    }
  },
  "nbformat": 4,
  "nbformat_minor": 0
}